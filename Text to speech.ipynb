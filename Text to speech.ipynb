import speech_recognition as sr
import pyttsx3
from googletrans import Translator  # Google Translate API

# Initialize text-to-speech engine
engine = pyttsx3.init()
voices = engine.getProperty("voices")
engine.setProperty("rate",
150)  # Speed of speech
engine.setProperty("voice", voices[
    0
].id)

# Try to set voice to English or other language if supported by pyttsx3
for voice in voices:
    if "english" in voice.name.lower():  # Default English voice
        engine.setProperty("voice", voice.id)
        break

def speak(text):
    engine.say(text)
    engine.runAndWait()

# Speech-to-text (recognize spoken language: English)
recognizer = sr.Recognizer()

def recognize_speech():
    with sr.Microphone() as source:
        print("🎤 Say something:")
        audio = recognizer.listen(source)
        try:
            text = recognizer.recognize_google(audio, language="en-US")  # Use English for speech recognition
            print("✅ You said:", text)
            return text
        except sr.UnknownValueError:
            print("❌ Could not understand the audio")
            return ""
        except sr.RequestError:
            print("⚠️ API Error (Check internet)")
            return ""

# Translator setup using Google Translate API
translator = Translator()
default_target_language = "es"  # Default target language is Spanish (es)

# Available translation options
languages = {
    "0": "es",   # Spanish
    "1": "fr",   # French
    "2": "de",   # German
    "3": "it",   # Italian
    "4": "hi",   # Hindi
    "5": "ur",   # Urdu
    "6": "ar",   # Arabic
    "7": "zh-cn" # Chinese Simplified
}

# Display language options to the user
print("\nAvailable languages:")
print("0: Spanish (es)")
print("1: French (fr)")
print("2: German (de)")
print("3: Italian (it)")
print("4: Hindi (hi)")
print("5: Urdu (ur)")
print("6: Arabic (ar)")
print("7: Chinese (zh-cn)")

# User selects language
language_choice = input("\n👉 Please select the target language number (0-7): ")
if language_choice in languages:
    target_language = languages[language_choice
]
else:
    target_language = default_target_language  # Default to Spanish if invalid input

# Main function to translate and speak
def main():
    while True:
        # Step 1: Capture Speech
        text = recognize_speech()
        if text.lower() in [
    "exit",
    "quit",
    "stop"
]:
            print("👋 Exiting...")
            break

        # Step 2: Speech-to-Text (recognizing English speech)
        if text:
            # Step 3: Translate to selected target language
            translation = translator.translate(text, dest=target_language)
            translated_text = translation.text
            print(f"🌍 Translation ({target_language}):", translated_text)

            # Step 4: Speak translation (English input → Target language speech)
            speak(translated_text)

if __name__ == "__main__":
    main()